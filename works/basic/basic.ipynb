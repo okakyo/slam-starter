{
 "cells": [
  {
   "cell_type": "markdown",
   "metadata": {},
   "source": [
    "# 数学知識、Python の使い方についてのまとめ\n",
    "\n",
    "このページでは、数学の知識、ならびに Python のライブラリの使い方について一通り記したものをここに実装する。\n",
    "\n",
    "今後、Python で機械学習を極めていくうえで、数式をみてコードを実装する練習をする必要がある、このノートでは、数式を今一度まとめて備忘録としてまとめていく。\n",
    "\n",
    "\n",
    "## 目次\n",
    "- 数学入門\n",
    "    - 微分、積分\n",
    "    - 行列\n",
    "    - 統計学\n",
    "- 機械学習入門\n",
    "- 図表にまとめる方法\n",
    "- 参考記事"
   ]
  },
  {
   "cell_type": "code",
   "execution_count": null,
   "metadata": {},
   "outputs": [],
   "source": []
  }
 ],
 "metadata": {
  "kernelspec": {
   "display_name": "Python 3",
   "language": "python",
   "name": "python3"
  },
  "language_info": {
   "codemirror_mode": {
    "name": "ipython",
    "version": 3
   },
   "file_extension": ".py",
   "mimetype": "text/x-python",
   "name": "python",
   "nbconvert_exporter": "python",
   "pygments_lexer": "ipython3",
   "version": "3.7.4"
  }
 },
 "nbformat": 4,
 "nbformat_minor": 4
}
